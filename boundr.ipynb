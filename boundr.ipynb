{
  "nbformat": 4,
  "nbformat_minor": 0,
  "metadata": {
    "colab": {
      "name": "boundr.ipynb",
      "provenance": [],
      "machine_shape": "hm",
      "authorship_tag": "ABX9TyPN0HFhtJ3m/5/onDc/IcRf",
      "include_colab_link": true
    },
    "kernelspec": {
      "name": "python3",
      "display_name": "Python 3"
    },
    "accelerator": "GPU"
  },
  "cells": [
    {
      "cell_type": "markdown",
      "metadata": {
        "id": "view-in-github",
        "colab_type": "text"
      },
      "source": [
        "<a href=\"https://colab.research.google.com/github/rockey1006/decision-boundary/blob/main/boundr.ipynb\" target=\"_parent\"><img src=\"https://colab.research.google.com/assets/colab-badge.svg\" alt=\"Open In Colab\"/></a>"
      ]
    },
    {
      "cell_type": "code",
      "metadata": {
        "colab": {
          "base_uri": "https://localhost:8080/"
        },
        "id": "MnnE5nDqWoz6",
        "outputId": "2ebffe9a-3161-4117-c0ef-407765ed4be5"
      },
      "source": [
        "!git clone https://github.com/hamidkarimi/DeepDIG.git"
      ],
      "execution_count": null,
      "outputs": [
        {
          "output_type": "stream",
          "text": [
            "Cloning into 'DeepDIG'...\n",
            "remote: Enumerating objects: 109, done.\u001b[K\n",
            "remote: Counting objects: 100% (109/109), done.\u001b[K\n",
            "remote: Compressing objects: 100% (84/84), done.\u001b[K\n",
            "remote: Total 109 (delta 46), reused 68 (delta 20), pack-reused 0\u001b[K\n",
            "Receiving objects: 100% (109/109), 42.13 MiB | 35.01 MiB/s, done.\n",
            "Resolving deltas: 100% (46/46), done.\n"
          ],
          "name": "stdout"
        }
      ]
    },
    {
      "cell_type": "code",
      "metadata": {
        "colab": {
          "base_uri": "https://localhost:8080/"
        },
        "id": "H-Q3eR3dW9J-",
        "outputId": "01feb1be-2352-42ea-97f3-055bd62150a1"
      },
      "source": [
        "!python /content/DeepDIG/initial_script.py"
      ],
      "execution_count": null,
      "outputs": [
        {
          "output_type": "stream",
          "text": [
            "Enter a path to hold the data and results (press enter for current path): new\n"
          ],
          "name": "stdout"
        }
      ]
    },
    {
      "cell_type": "code",
      "metadata": {
        "colab": {
          "base_uri": "https://localhost:8080/"
        },
        "id": "BZYN6v9mXf1t",
        "outputId": "e10ad920-b463-476b-d833-5dab381ebc6c"
      },
      "source": [
        "! python -m DeepDIG.PreTrainedModels.MNIST.CNN.train --dataset MNIST --pre-trained-model CNN\r\n",
        "#/content/DeepDIG/PreTrainedModels/MNIST/utils.py\r\n",
        "#23 data_dir = '/content/DeepDIG/Data/MNIST/'\r\n"
      ],
      "execution_count": null,
      "outputs": [
        {
          "output_type": "stream",
          "text": [
            "0 tensor(0.0100, device='cuda:0')\n",
            "Accuracy 0.9729 F1 0.9728465287427088 \n",
            "1 tensor(0.0573, device='cuda:0')\n",
            "Accuracy 0.9816 F1 0.9816157678872862 \n",
            "2 tensor(0.0400, device='cuda:0')\n",
            "Accuracy 0.9834 F1 0.9833968160363995 \n",
            "3 tensor(0.0049, device='cuda:0')\n",
            "Accuracy 0.9781 F1 0.9781099214315151 \n",
            "4 tensor(0.0006, device='cuda:0')\n",
            "Accuracy 0.9791 F1 0.9791016315402303 \n",
            "5 tensor(0.0118, device='cuda:0')\n",
            "Accuracy 0.9797 F1 0.9797061312766077 \n",
            "6 tensor(0.0136, device='cuda:0')\n",
            "Accuracy 0.9821 F1 0.9821164333379493 \n",
            "7 tensor(0.0002, device='cuda:0')\n",
            "Accuracy 0.9835 F1 0.98351297294084 \n",
            "8 tensor(0.0025, device='cuda:0')\n",
            "Accuracy 0.984 F1 0.9840008469030794 \n",
            "9 tensor(0.0015, device='cuda:0')\n",
            "Accuracy 0.9851 F1 0.9851021449212433 \n",
            "10 tensor(1.3037e-05, device='cuda:0')\n",
            "Accuracy 0.9837 F1 0.9837007102904463 \n",
            "11 tensor(0.0007, device='cuda:0')\n",
            "Accuracy 0.9849 F1 0.9848951416260854 \n",
            "12 tensor(0.0007, device='cuda:0')\n",
            "Accuracy 0.985 F1 0.9849903995396236 \n",
            "13 tensor(0.0002, device='cuda:0')\n",
            "Accuracy 0.9855 F1 0.985496787477804 \n",
            "14 tensor(0.0710, device='cuda:0')\n",
            "Accuracy 0.9866 F1 0.9865984184968937 \n",
            "15 tensor(0.0020, device='cuda:0')\n",
            "Accuracy 0.9849 F1 0.9848944634066115 \n",
            "16 tensor(1.1278e-05, device='cuda:0')\n",
            "Accuracy 0.9863 F1 0.986300629837901 \n",
            "17 tensor(1.0691e-06, device='cuda:0')\n",
            "Accuracy 0.9848 F1 0.9847936131957443 \n",
            "18 tensor(1.2745e-05, device='cuda:0')\n",
            "Accuracy 0.9859 F1 0.9858970937033488 \n",
            "19 tensor(3.9428e-05, device='cuda:0')\n",
            "Accuracy 0.9865 F1 0.9865006957248806 \n",
            "20 tensor(0.0708, device='cuda:0')\n",
            "Accuracy 0.9859 F1 0.9859019307051281 \n",
            "21 tensor(4.6786e-06, device='cuda:0')\n",
            "Accuracy 0.9859 F1 0.9859034116818939 \n",
            "22 tensor(2.6077e-08, device='cuda:0')\n",
            "Accuracy 0.9861 F1 0.9861004840585927 \n",
            "23 tensor(0.0005, device='cuda:0')\n",
            "Accuracy 0.9859 F1 0.9859000714814714 \n",
            "24 tensor(3.9024e-05, device='cuda:0')\n",
            "Accuracy 0.9862 F1 0.9862001747270699 \n",
            "25 tensor(0., device='cuda:0')\n",
            "Accuracy 0.9868 F1 0.9868010515793587 \n",
            "26 tensor(2.2352e-08, device='cuda:0')\n",
            "Accuracy 0.9867 F1 0.9867001653816613 \n",
            "27 tensor(1.0656e-05, device='cuda:0')\n",
            "Accuracy 0.9867 F1 0.9866986778173781 \n",
            "28 tensor(7.0477e-06, device='cuda:0')\n",
            "Accuracy 0.987 F1 0.9869984315886784 \n",
            "29 tensor(0.0002, device='cuda:0')\n",
            "Accuracy 0.9867 F1 0.9867006211136617 \n",
            "30 tensor(3.7253e-09, device='cuda:0')\n",
            "Accuracy 0.9868 F1 0.9867952261814311 \n",
            "31 tensor(0.0003, device='cuda:0')\n",
            "Accuracy 0.9871 F1 0.9870985468511765 \n",
            "32 tensor(3.8743e-07, device='cuda:0')\n",
            "Accuracy 0.9869 F1 0.9868995849577467 \n",
            "33 tensor(0., device='cuda:0')\n",
            "Accuracy 0.9867 F1 0.9867001916340267 \n",
            "34 tensor(3.7253e-09, device='cuda:0')\n",
            "Accuracy 0.9866 F1 0.9865989730454671 \n",
            "35 tensor(2.2352e-07, device='cuda:0')\n",
            "Accuracy 0.9869 F1 0.9868981681937347 \n",
            "36 tensor(2.5629e-06, device='cuda:0')\n",
            "Accuracy 0.9865 F1 0.986500000985186 \n",
            "37 tensor(0., device='cuda:0')\n",
            "Accuracy 0.9868 F1 0.986798771935903 \n",
            "38 tensor(4.4703e-08, device='cuda:0')\n",
            "Accuracy 0.9867 F1 0.9866996849873092 \n",
            "39 tensor(0., device='cuda:0')\n",
            "Accuracy 0.9868 F1 0.9867991418246406 \n"
          ],
          "name": "stdout"
        }
      ]
    },
    {
      "cell_type": "code",
      "metadata": {
        "id": "ugHgverQbF9K",
        "colab": {
          "base_uri": "https://localhost:8080/"
        },
        "outputId": "a5273f01-0335-4dc4-cfcc-32aba2a04ac4"
      },
      "source": [
        "!python -m DeepDIG.main --dataset MNIST --pre-trained-model CNN --classes \"1;2\""
      ],
      "execution_count": null,
      "outputs": [
        {
          "output_type": "stream",
          "text": [
            "Running DeepDIG for 1 --> 2 ...\n",
            " No trained model, creating one ...\n",
            "Step 0 Loss 1.6514278650283813\n",
            "Step 2000 Loss 0.07085464149713516\n",
            "Step 4000 Loss 0.06014583259820938\n",
            "Saved model CHANGE ME PLEASEPreTrainedModels/MNIST/CNN/(1,2)/1_2/adv/model.m loaded\n",
            "6741/6742 1->2 adv samples successfully generated \n",
            "Saved model CHANGE ME PLEASEPreTrainedModels/MNIST/CNN/(1,2)/1_2/adv/model.m loaded\n",
            "1127/1135 1->2 adv samples successfully generated \n",
            " No trained model, creating one ...\n",
            "Step 0 Loss 0.7318363785743713\n",
            "Step 2000 Loss 0.07161326706409454\n",
            "Step 4000 Loss 0.06630655378103256\n",
            "Saved model CHANGE ME PLEASEPreTrainedModels/MNIST/CNN/(1,2)/1_2/adv_of_adv/model.m loaded\n",
            "6741/6741 1->2->1 adv_of_adv samples successfully generated\n",
            "6741it [02:31, 44.42it/s]\n",
            "CHANGE ME PLEASEPreTrainedModels/MNIST/CNN/(1,2)/1_2/borderline_deepdig_0.0001.pkl saved\n"
          ],
          "name": "stdout"
        }
      ]
    }
  ]
}